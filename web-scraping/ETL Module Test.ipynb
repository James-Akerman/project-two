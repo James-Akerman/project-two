{
 "cells": [
  {
   "cell_type": "code",
   "execution_count": null,
   "id": "774f2e3a",
   "metadata": {},
   "outputs": [],
   "source": [
    "from yahoo_finance_etl_module_version_2 import yahoo_finance_etl"
   ]
  },
  {
   "cell_type": "code",
   "execution_count": null,
   "id": "560715cf",
   "metadata": {},
   "outputs": [],
   "source": [
    "yahoo_finance_etl(['CBA.AX'])"
   ]
  },
  {
   "cell_type": "code",
   "execution_count": null,
   "id": "0f79919b",
   "metadata": {},
   "outputs": [],
   "source": []
  }
 ],
 "metadata": {
  "kernelspec": {
   "display_name": "Python 3",
   "language": "python",
   "name": "python3"
  },
  "language_info": {
   "codemirror_mode": {
    "name": "ipython",
    "version": 3
   },
   "file_extension": ".py",
   "mimetype": "text/x-python",
   "name": "python",
   "nbconvert_exporter": "python",
   "pygments_lexer": "ipython3",
   "version": "3.8.8"
  }
 },
 "nbformat": 4,
 "nbformat_minor": 5
}
